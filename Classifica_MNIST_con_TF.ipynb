{
  "nbformat": 4,
  "nbformat_minor": 0,
  "metadata": {
    "colab": {
      "provenance": [],
      "authorship_tag": "ABX9TyO3RWBRG4He4TejUBa015Y2",
      "include_colab_link": true
    },
    "kernelspec": {
      "name": "python3",
      "display_name": "Python 3"
    },
    "language_info": {
      "name": "python"
    }
  },
  "cells": [
    {
      "cell_type": "markdown",
      "metadata": {
        "id": "view-in-github",
        "colab_type": "text"
      },
      "source": [
        "<a href=\"https://colab.research.google.com/github/emiliodallatorre/unive-ct0570-python/blob/main/Classifica_MNIST_con_TF.ipynb\" target=\"_parent\"><img src=\"https://colab.research.google.com/assets/colab-badge.svg\" alt=\"Open In Colab\"/></a>"
      ]
    },
    {
      "cell_type": "markdown",
      "source": [
        "# Classificazione dataset MNIST con TensorFlow\n",
        "\n",
        "Lo scopo di questo notebook è quello di testare la classificazione del dataset MNIST tramite TensorFlow e non `scikit-learn`.\n",
        "\n",
        "In primo luogo carichiamo il datasaet MNIST dall'archivio di dataset di TensorFlow."
      ],
      "metadata": {
        "id": "hMD3TjWUoFjh"
      }
    },
    {
      "cell_type": "code",
      "source": [
        "import tensorflow as tf\n",
        "import tensorflow_datasets as tfds\n",
        "from matplotlib import pyplot as plt\n",
        "from tensorflow.keras.models import Model, Sequential\n",
        "\n",
        "(ds_train, ds_test), ds_info = tfds.load(\n",
        "    'mnist',\n",
        "    split=['train', 'test'],\n",
        "    shuffle_files=True,\n",
        "    as_supervised=True,\n",
        "    with_info=True,\n",
        ")"
      ],
      "metadata": {
        "id": "fbcs_2KuojsP"
      },
      "execution_count": 31,
      "outputs": []
    },
    {
      "cell_type": "markdown",
      "source": [
        "L'obiettivo, adesso, è quello di ripulire le immagini e adeguarle ad un formato adeguato a permettere un'analisi veloce / efficiente.\n",
        "\n",
        "Costruiamo un batch per fare il training della NN, ovvero uno split del dataset per fare solo questo."
      ],
      "metadata": {
        "id": "Jg2Et8dRrQ_t"
      }
    },
    {
      "cell_type": "code",
      "source": [
        "def normalize_image(image, label) -> tuple[tf.Tensor, str]:\n",
        "  \"\"\"Converte le immagini da uint8 a float32, più piccolo.\"\"\"\n",
        "  return tf.cast(image, tf.float32) / 255., label\n",
        "\n",
        "ds_train = ds_train.map(\n",
        "    normalize_image, num_parallel_calls=tf.data.AUTOTUNE)\n",
        "ds_train = ds_train.cache()\n",
        "ds_train = ds_train.shuffle(ds_info.splits['train'].num_examples)\n",
        "ds_train = ds_train.batch(128)\n",
        "ds_train = ds_train.prefetch(tf.data.AUTOTUNE)"
      ],
      "metadata": {
        "id": "fJBlHWBJrZiF"
      },
      "execution_count": 25,
      "outputs": []
    },
    {
      "cell_type": "markdown",
      "source": [
        "Costruiamo ora un dataset che permetta di fare testing e assessment della performance di classificazione della NN."
      ],
      "metadata": {
        "id": "EA3GfTmKsHrK"
      }
    },
    {
      "cell_type": "code",
      "source": [
        "ds_test = ds_test.map(\n",
        "    normalize_image, num_parallel_calls=tf.data.AUTOTUNE)\n",
        "ds_test = ds_test.batch(128)\n",
        "ds_test = ds_test.cache()\n",
        "ds_test = ds_test.prefetch(tf.data.AUTOTUNE)"
      ],
      "metadata": {
        "id": "uSpIBJT1sM9m"
      },
      "execution_count": 26,
      "outputs": []
    },
    {
      "cell_type": "markdown",
      "source": [
        "## Addestramento e test del modello\n",
        "\n",
        "A questo punto, creiamo il modello e lo addestriamo, in modo da vedere le sue performance nel clustering del dataset.\n",
        "\n",
        "Utilizziamo una classica [ReLU](https://en.wikipedia.org/wiki/Rectifier_(neural_networks)) come funzione di attivazione del neurone che permette di introdurre un po' di non-linearità nel modello.\n",
        "\n",
        "Una cosa interessante di TensorFlow è creare un modello di livelli che si sovrappongono in maniera molto ordinata.\n",
        "`Sequential`, per esempio, ci permette di mettere in coda una serie di strati che si occupano di agire sui dati.\n",
        "Qui usiamo [Flatten](https://keras.io/api/layers/reshaping_layers/flatten/) e [Dense](keras.io/api/layers/core_layers/dense/), che si occupano - rispettivamente - di implementare e di implementare il classico livello ben connesso della NN."
      ],
      "metadata": {
        "id": "cwZAcLIIsToT"
      }
    },
    {
      "cell_type": "code",
      "source": [
        "model: Model = Sequential([\n",
        "  tf.keras.layers.Flatten(input_shape=(28, 28)),\n",
        "  tf.keras.layers.Dense(128, activation='relu'),\n",
        "  tf.keras.layers.Dense(10)\n",
        "])\n",
        "\n",
        "model.compile(\n",
        "    optimizer=tf.keras.optimizers.Adam(0.001),\n",
        "    loss=tf.keras.losses.SparseCategoricalCrossentropy(from_logits=True),\n",
        "    metrics=[tf.keras.metrics.SparseCategoricalAccuracy()],\n",
        ")\n",
        "\n",
        "history = model.fit(\n",
        "    ds_train,\n",
        "    epochs=24,\n",
        "    validation_data=ds_test,\n",
        ")"
      ],
      "metadata": {
        "colab": {
          "base_uri": "https://localhost:8080/"
        },
        "id": "lpvlJtygscCH",
        "outputId": "c297f1d9-ea7d-4cfe-9472-cfaeb220f0cc"
      },
      "execution_count": 27,
      "outputs": [
        {
          "output_type": "stream",
          "name": "stdout",
          "text": [
            "Epoch 1/24\n",
            "469/469 [==============================] - 7s 5ms/step - loss: 0.3563 - sparse_categorical_accuracy: 0.9016 - val_loss: 0.1904 - val_sparse_categorical_accuracy: 0.9463\n",
            "Epoch 2/24\n",
            "469/469 [==============================] - 2s 3ms/step - loss: 0.1653 - sparse_categorical_accuracy: 0.9537 - val_loss: 0.1368 - val_sparse_categorical_accuracy: 0.9605\n",
            "Epoch 3/24\n",
            "469/469 [==============================] - 2s 3ms/step - loss: 0.1208 - sparse_categorical_accuracy: 0.9648 - val_loss: 0.1109 - val_sparse_categorical_accuracy: 0.9678\n",
            "Epoch 4/24\n",
            "469/469 [==============================] - 1s 3ms/step - loss: 0.0940 - sparse_categorical_accuracy: 0.9730 - val_loss: 0.1060 - val_sparse_categorical_accuracy: 0.9687\n",
            "Epoch 5/24\n",
            "469/469 [==============================] - 2s 3ms/step - loss: 0.0765 - sparse_categorical_accuracy: 0.9782 - val_loss: 0.0844 - val_sparse_categorical_accuracy: 0.9749\n",
            "Epoch 6/24\n",
            "469/469 [==============================] - 2s 3ms/step - loss: 0.0627 - sparse_categorical_accuracy: 0.9820 - val_loss: 0.0825 - val_sparse_categorical_accuracy: 0.9744\n",
            "Epoch 7/24\n",
            "469/469 [==============================] - 1s 3ms/step - loss: 0.0530 - sparse_categorical_accuracy: 0.9853 - val_loss: 0.0802 - val_sparse_categorical_accuracy: 0.9761\n",
            "Epoch 8/24\n",
            "469/469 [==============================] - 2s 4ms/step - loss: 0.0447 - sparse_categorical_accuracy: 0.9870 - val_loss: 0.0780 - val_sparse_categorical_accuracy: 0.9764\n",
            "Epoch 9/24\n",
            "469/469 [==============================] - 1s 3ms/step - loss: 0.0373 - sparse_categorical_accuracy: 0.9897 - val_loss: 0.0813 - val_sparse_categorical_accuracy: 0.9759\n",
            "Epoch 10/24\n",
            "469/469 [==============================] - 2s 3ms/step - loss: 0.0326 - sparse_categorical_accuracy: 0.9909 - val_loss: 0.0746 - val_sparse_categorical_accuracy: 0.9763\n",
            "Epoch 11/24\n",
            "469/469 [==============================] - 2s 3ms/step - loss: 0.0273 - sparse_categorical_accuracy: 0.9923 - val_loss: 0.0756 - val_sparse_categorical_accuracy: 0.9775\n",
            "Epoch 12/24\n",
            "469/469 [==============================] - 3s 7ms/step - loss: 0.0230 - sparse_categorical_accuracy: 0.9942 - val_loss: 0.0762 - val_sparse_categorical_accuracy: 0.9770\n",
            "Epoch 13/24\n",
            "469/469 [==============================] - 2s 3ms/step - loss: 0.0197 - sparse_categorical_accuracy: 0.9954 - val_loss: 0.0735 - val_sparse_categorical_accuracy: 0.9784\n",
            "Epoch 14/24\n",
            "469/469 [==============================] - 2s 3ms/step - loss: 0.0166 - sparse_categorical_accuracy: 0.9962 - val_loss: 0.0737 - val_sparse_categorical_accuracy: 0.9791\n",
            "Epoch 15/24\n",
            "469/469 [==============================] - 1s 3ms/step - loss: 0.0140 - sparse_categorical_accuracy: 0.9968 - val_loss: 0.0769 - val_sparse_categorical_accuracy: 0.9765\n",
            "Epoch 16/24\n",
            "469/469 [==============================] - 2s 3ms/step - loss: 0.0122 - sparse_categorical_accuracy: 0.9976 - val_loss: 0.0797 - val_sparse_categorical_accuracy: 0.9775\n",
            "Epoch 17/24\n",
            "469/469 [==============================] - 2s 4ms/step - loss: 0.0105 - sparse_categorical_accuracy: 0.9979 - val_loss: 0.0765 - val_sparse_categorical_accuracy: 0.9779\n",
            "Epoch 18/24\n",
            "469/469 [==============================] - 2s 3ms/step - loss: 0.0092 - sparse_categorical_accuracy: 0.9982 - val_loss: 0.0805 - val_sparse_categorical_accuracy: 0.9777\n",
            "Epoch 19/24\n",
            "469/469 [==============================] - 2s 3ms/step - loss: 0.0078 - sparse_categorical_accuracy: 0.9988 - val_loss: 0.0799 - val_sparse_categorical_accuracy: 0.9783\n",
            "Epoch 20/24\n",
            "469/469 [==============================] - 1s 3ms/step - loss: 0.0065 - sparse_categorical_accuracy: 0.9988 - val_loss: 0.0805 - val_sparse_categorical_accuracy: 0.9788\n",
            "Epoch 21/24\n",
            "469/469 [==============================] - 2s 3ms/step - loss: 0.0051 - sparse_categorical_accuracy: 0.9994 - val_loss: 0.0833 - val_sparse_categorical_accuracy: 0.9784\n",
            "Epoch 22/24\n",
            "469/469 [==============================] - 2s 3ms/step - loss: 0.0047 - sparse_categorical_accuracy: 0.9993 - val_loss: 0.0942 - val_sparse_categorical_accuracy: 0.9768\n",
            "Epoch 23/24\n",
            "469/469 [==============================] - 2s 5ms/step - loss: 0.0061 - sparse_categorical_accuracy: 0.9987 - val_loss: 0.0891 - val_sparse_categorical_accuracy: 0.9772\n",
            "Epoch 24/24\n",
            "469/469 [==============================] - 2s 3ms/step - loss: 0.0045 - sparse_categorical_accuracy: 0.9992 - val_loss: 0.0876 - val_sparse_categorical_accuracy: 0.9776\n"
          ]
        }
      ]
    },
    {
      "cell_type": "markdown",
      "source": [
        "Osserviamo la performance del modello analizzando i risultati delle varie epoch di training che abbiamo lanciato nello scorso blocco."
      ],
      "metadata": {
        "id": "9sDeEpDttMZs"
      }
    },
    {
      "cell_type": "code",
      "source": [
        "plt.plot(history.history['loss'])\n",
        "plt.plot(history.history['val_loss'])\n",
        "\n",
        "plt.title('model loss')\n",
        "plt.ylabel('Funzione di costo')\n",
        "plt.xlabel('Iterazioni')\n",
        "plt.legend(['Training', 'Test'], loc='upper right')\n",
        "\n",
        "plt.show()"
      ],
      "metadata": {
        "colab": {
          "base_uri": "https://localhost:8080/",
          "height": 472
        },
        "id": "hq6hm6BgtSRz",
        "outputId": "a68f7914-d224-4404-a0af-75b93924e9b8"
      },
      "execution_count": 28,
      "outputs": [
        {
          "output_type": "display_data",
          "data": {
            "text/plain": [
              "<Figure size 640x480 with 1 Axes>"
            ],
            "image/png": "[encoded data removed]"
          },
          "metadata": {}
        }
      ]
    },
    {
      "cell_type": "markdown",
      "source": [
        "Si vede subito che il decadimento della funzione di costo è antiesponenziale e tende a 0 dato un numero di iterazioni non fissato.\n",
        "\n",
        "I risultati del modello sul dataset di test ci mostrano evidentemente che dopo la sesta si comincia a veder ricrescere la funzione di costo: si tratta di *overfitting*."
      ],
      "metadata": {
        "id": "OOy61b1auMvy"
      }
    }
  ]
}